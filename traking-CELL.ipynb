{
  "nbformat": 4,
  "nbformat_minor": 0,
  "metadata": {
    "colab": {
      "provenance": []
    },
    "kernelspec": {
      "name": "python3",
      "display_name": "Python 3"
    },
    "language_info": {
      "name": "python"
    }
  },
  "cells": [
    {
      "cell_type": "code",
      "execution_count": null,
      "metadata": {
        "colab": {
          "base_uri": "https://localhost:8080/"
        },
        "id": "UxHmH1LDlGP7",
        "outputId": "747ae563-a3bf-423b-a865-b6e13109e777"
      },
      "outputs": [
        {
          "output_type": "stream",
          "name": "stdout",
          "text": [
            "Mounted at /content/drive\n"
          ]
        }
      ],
      "source": [
        "from google.colab import drive\n",
        "drive.mount('/content/drive')"
      ]
    },
    {
      "cell_type": "code",
      "source": [
        "!pip install ultralytics"
      ],
      "metadata": {
        "colab": {
          "base_uri": "https://localhost:8080/"
        },
        "id": "FHdE8y-jlTKG",
        "outputId": "aee5f890-03aa-4cff-9629-50dd92167ded"
      },
      "execution_count": null,
      "outputs": [
        {
          "output_type": "stream",
          "name": "stdout",
          "text": [
            "Collecting ultralytics\n",
            "  Downloading ultralytics-8.1.8-py3-none-any.whl (709 kB)\n",
            "\u001b[2K     \u001b[90m━━━━━━━━━━━━━━━━━━━━━━━━━━━━━━━━━━━━━━━━\u001b[0m \u001b[32m709.4/709.4 kB\u001b[0m \u001b[31m3.9 MB/s\u001b[0m eta \u001b[36m0:00:00\u001b[0m\n",
            "\u001b[?25hRequirement already satisfied: matplotlib>=3.3.0 in /usr/local/lib/python3.10/dist-packages (from ultralytics) (3.7.1)\n",
            "Requirement already satisfied: numpy>=1.22.2 in /usr/local/lib/python3.10/dist-packages (from ultralytics) (1.23.5)\n",
            "Requirement already satisfied: opencv-python>=4.6.0 in /usr/local/lib/python3.10/dist-packages (from ultralytics) (4.8.0.76)\n",
            "Requirement already satisfied: pillow>=7.1.2 in /usr/local/lib/python3.10/dist-packages (from ultralytics) (9.4.0)\n",
            "Requirement already satisfied: pyyaml>=5.3.1 in /usr/local/lib/python3.10/dist-packages (from ultralytics) (6.0.1)\n",
            "Requirement already satisfied: requests>=2.23.0 in /usr/local/lib/python3.10/dist-packages (from ultralytics) (2.31.0)\n",
            "Requirement already satisfied: scipy>=1.4.1 in /usr/local/lib/python3.10/dist-packages (from ultralytics) (1.11.4)\n",
            "Requirement already satisfied: torch>=1.8.0 in /usr/local/lib/python3.10/dist-packages (from ultralytics) (2.1.0+cu121)\n",
            "Requirement already satisfied: torchvision>=0.9.0 in /usr/local/lib/python3.10/dist-packages (from ultralytics) (0.16.0+cu121)\n",
            "Requirement already satisfied: tqdm>=4.64.0 in /usr/local/lib/python3.10/dist-packages (from ultralytics) (4.66.1)\n",
            "Requirement already satisfied: psutil in /usr/local/lib/python3.10/dist-packages (from ultralytics) (5.9.5)\n",
            "Requirement already satisfied: py-cpuinfo in /usr/local/lib/python3.10/dist-packages (from ultralytics) (9.0.0)\n",
            "Collecting thop>=0.1.1 (from ultralytics)\n",
            "  Downloading thop-0.1.1.post2209072238-py3-none-any.whl (15 kB)\n",
            "Requirement already satisfied: pandas>=1.1.4 in /usr/local/lib/python3.10/dist-packages (from ultralytics) (1.5.3)\n",
            "Requirement already satisfied: seaborn>=0.11.0 in /usr/local/lib/python3.10/dist-packages (from ultralytics) (0.13.1)\n",
            "Requirement already satisfied: contourpy>=1.0.1 in /usr/local/lib/python3.10/dist-packages (from matplotlib>=3.3.0->ultralytics) (1.2.0)\n",
            "Requirement already satisfied: cycler>=0.10 in /usr/local/lib/python3.10/dist-packages (from matplotlib>=3.3.0->ultralytics) (0.12.1)\n",
            "Requirement already satisfied: fonttools>=4.22.0 in /usr/local/lib/python3.10/dist-packages (from matplotlib>=3.3.0->ultralytics) (4.47.2)\n",
            "Requirement already satisfied: kiwisolver>=1.0.1 in /usr/local/lib/python3.10/dist-packages (from matplotlib>=3.3.0->ultralytics) (1.4.5)\n",
            "Requirement already satisfied: packaging>=20.0 in /usr/local/lib/python3.10/dist-packages (from matplotlib>=3.3.0->ultralytics) (23.2)\n",
            "Requirement already satisfied: pyparsing>=2.3.1 in /usr/local/lib/python3.10/dist-packages (from matplotlib>=3.3.0->ultralytics) (3.1.1)\n",
            "Requirement already satisfied: python-dateutil>=2.7 in /usr/local/lib/python3.10/dist-packages (from matplotlib>=3.3.0->ultralytics) (2.8.2)\n",
            "Requirement already satisfied: pytz>=2020.1 in /usr/local/lib/python3.10/dist-packages (from pandas>=1.1.4->ultralytics) (2023.3.post1)\n",
            "Requirement already satisfied: charset-normalizer<4,>=2 in /usr/local/lib/python3.10/dist-packages (from requests>=2.23.0->ultralytics) (3.3.2)\n",
            "Requirement already satisfied: idna<4,>=2.5 in /usr/local/lib/python3.10/dist-packages (from requests>=2.23.0->ultralytics) (3.6)\n",
            "Requirement already satisfied: urllib3<3,>=1.21.1 in /usr/local/lib/python3.10/dist-packages (from requests>=2.23.0->ultralytics) (2.0.7)\n",
            "Requirement already satisfied: certifi>=2017.4.17 in /usr/local/lib/python3.10/dist-packages (from requests>=2.23.0->ultralytics) (2023.11.17)\n",
            "Requirement already satisfied: filelock in /usr/local/lib/python3.10/dist-packages (from torch>=1.8.0->ultralytics) (3.13.1)\n",
            "Requirement already satisfied: typing-extensions in /usr/local/lib/python3.10/dist-packages (from torch>=1.8.0->ultralytics) (4.5.0)\n",
            "Requirement already satisfied: sympy in /usr/local/lib/python3.10/dist-packages (from torch>=1.8.0->ultralytics) (1.12)\n",
            "Requirement already satisfied: networkx in /usr/local/lib/python3.10/dist-packages (from torch>=1.8.0->ultralytics) (3.2.1)\n",
            "Requirement already satisfied: jinja2 in /usr/local/lib/python3.10/dist-packages (from torch>=1.8.0->ultralytics) (3.1.3)\n",
            "Requirement already satisfied: fsspec in /usr/local/lib/python3.10/dist-packages (from torch>=1.8.0->ultralytics) (2023.6.0)\n",
            "Requirement already satisfied: triton==2.1.0 in /usr/local/lib/python3.10/dist-packages (from torch>=1.8.0->ultralytics) (2.1.0)\n",
            "Requirement already satisfied: six>=1.5 in /usr/local/lib/python3.10/dist-packages (from python-dateutil>=2.7->matplotlib>=3.3.0->ultralytics) (1.16.0)\n",
            "Requirement already satisfied: MarkupSafe>=2.0 in /usr/local/lib/python3.10/dist-packages (from jinja2->torch>=1.8.0->ultralytics) (2.1.4)\n",
            "Requirement already satisfied: mpmath>=0.19 in /usr/local/lib/python3.10/dist-packages (from sympy->torch>=1.8.0->ultralytics) (1.3.0)\n",
            "Installing collected packages: thop, ultralytics\n",
            "Successfully installed thop-0.1.1.post2209072238 ultralytics-8.1.8\n"
          ]
        }
      ]
    },
    {
      "cell_type": "code",
      "source": [
        "!pip install supervision"
      ],
      "metadata": {
        "colab": {
          "base_uri": "https://localhost:8080/"
        },
        "id": "MYgMN_CilTR7",
        "outputId": "cee2dd2b-4861-4122-b0e4-b9a749af8f4c"
      },
      "execution_count": null,
      "outputs": [
        {
          "output_type": "stream",
          "name": "stdout",
          "text": [
            "Collecting supervision\n",
            "  Downloading supervision-0.18.0-py3-none-any.whl (86 kB)\n",
            "\u001b[2K     \u001b[90m━━━━━━━━━━━━━━━━━━━━━━━━━━━━━━━━━━━━━━━━\u001b[0m \u001b[32m86.7/86.7 kB\u001b[0m \u001b[31m1.3 MB/s\u001b[0m eta \u001b[36m0:00:00\u001b[0m\n",
            "\u001b[?25hRequirement already satisfied: defusedxml<0.8.0,>=0.7.1 in /usr/local/lib/python3.10/dist-packages (from supervision) (0.7.1)\n",
            "Requirement already satisfied: matplotlib>=3.6.0 in /usr/local/lib/python3.10/dist-packages (from supervision) (3.7.1)\n",
            "Requirement already satisfied: numpy>=1.21.2 in /usr/local/lib/python3.10/dist-packages (from supervision) (1.23.5)\n",
            "Requirement already satisfied: opencv-python-headless>=4.5.5.64 in /usr/local/lib/python3.10/dist-packages (from supervision) (4.9.0.80)\n",
            "Requirement already satisfied: pyyaml>=5.3 in /usr/local/lib/python3.10/dist-packages (from supervision) (6.0.1)\n",
            "Requirement already satisfied: scipy<2.0.0,>=1.10.0 in /usr/local/lib/python3.10/dist-packages (from supervision) (1.11.4)\n",
            "Requirement already satisfied: contourpy>=1.0.1 in /usr/local/lib/python3.10/dist-packages (from matplotlib>=3.6.0->supervision) (1.2.0)\n",
            "Requirement already satisfied: cycler>=0.10 in /usr/local/lib/python3.10/dist-packages (from matplotlib>=3.6.0->supervision) (0.12.1)\n",
            "Requirement already satisfied: fonttools>=4.22.0 in /usr/local/lib/python3.10/dist-packages (from matplotlib>=3.6.0->supervision) (4.47.2)\n",
            "Requirement already satisfied: kiwisolver>=1.0.1 in /usr/local/lib/python3.10/dist-packages (from matplotlib>=3.6.0->supervision) (1.4.5)\n",
            "Requirement already satisfied: packaging>=20.0 in /usr/local/lib/python3.10/dist-packages (from matplotlib>=3.6.0->supervision) (23.2)\n",
            "Requirement already satisfied: pillow>=6.2.0 in /usr/local/lib/python3.10/dist-packages (from matplotlib>=3.6.0->supervision) (9.4.0)\n",
            "Requirement already satisfied: pyparsing>=2.3.1 in /usr/local/lib/python3.10/dist-packages (from matplotlib>=3.6.0->supervision) (3.1.1)\n",
            "Requirement already satisfied: python-dateutil>=2.7 in /usr/local/lib/python3.10/dist-packages (from matplotlib>=3.6.0->supervision) (2.8.2)\n",
            "Requirement already satisfied: six>=1.5 in /usr/local/lib/python3.10/dist-packages (from python-dateutil>=2.7->matplotlib>=3.6.0->supervision) (1.16.0)\n",
            "Installing collected packages: supervision\n",
            "Successfully installed supervision-0.18.0\n"
          ]
        }
      ]
    },
    {
      "cell_type": "code",
      "source": [
        "# clone repository and navigate to root directory\n",
        "!git clone https://github.com/roboflow/supervision.git\n",
        "!cd supervision\n",
        "\n",
        "# setup python environment and activate it\n",
        "!python3 -m venv venv\n",
        "!source venv/bin/activate\n",
        "!pip install --upgrade pip\n",
        "\n",
        "# headless install\n",
        "!pip install -e \".\"\n",
        "\n",
        "# desktop install\n",
        "!pip install -e \".[desktop]\""
      ],
      "metadata": {
        "colab": {
          "base_uri": "https://localhost:8080/"
        },
        "id": "jg3nd8oqlTXN",
        "outputId": "75dda760-c14f-4389-93f0-b2de22021cb0"
      },
      "execution_count": null,
      "outputs": [
        {
          "output_type": "stream",
          "name": "stdout",
          "text": [
            "Cloning into 'supervision'...\n",
            "remote: Enumerating objects: 10345, done.\u001b[K\n",
            "remote: Counting objects: 100% (1724/1724), done.\u001b[K\n",
            "remote: Compressing objects: 100% (266/266), done.\u001b[K\n",
            "remote: Total 10345 (delta 1128), reused 1635 (delta 1080), pack-reused 8621\u001b[K\n",
            "Receiving objects: 100% (10345/10345), 48.69 MiB | 39.85 MiB/s, done.\n",
            "Resolving deltas: 100% (6848/6848), done.\n",
            "The virtual environment was not created successfully because ensurepip is not\n",
            "available.  On Debian/Ubuntu systems, you need to install the python3-venv\n",
            "package using the following command.\n",
            "\n",
            "    apt install python3.10-venv\n",
            "\n",
            "You may need to use sudo with that command.  After installing the python3-venv\n",
            "package, recreate your virtual environment.\n",
            "\n",
            "Failing command: /content/venv/bin/python3\n",
            "\n",
            "/bin/bash: line 1: venv/bin/activate: No such file or directory\n",
            "Requirement already satisfied: pip in /usr/local/lib/python3.10/dist-packages (23.1.2)\n",
            "Collecting pip\n",
            "  Downloading pip-23.3.2-py3-none-any.whl (2.1 MB)\n",
            "\u001b[2K     \u001b[90m━━━━━━━━━━━━━━━━━━━━━━━━━━━━━━━━━━━━━━━━\u001b[0m \u001b[32m2.1/2.1 MB\u001b[0m \u001b[31m11.1 MB/s\u001b[0m eta \u001b[36m0:00:00\u001b[0m\n",
            "\u001b[?25hInstalling collected packages: pip\n",
            "  Attempting uninstall: pip\n",
            "    Found existing installation: pip 23.1.2\n",
            "    Uninstalling pip-23.1.2:\n",
            "      Successfully uninstalled pip-23.1.2\n",
            "Successfully installed pip-23.3.2\n",
            "Obtaining file:///content\n",
            "\u001b[31mERROR: file:///content does not appear to be a Python project: neither 'setup.py' nor 'pyproject.toml' found.\u001b[0m\u001b[31m\n",
            "\u001b[0mObtaining file:///content\n",
            "\u001b[31mERROR: file:///content does not appear to be a Python project: neither 'setup.py' nor 'pyproject.toml' found.\u001b[0m\u001b[31m\n",
            "\u001b[0m"
          ]
        }
      ]
    },
    {
      "cell_type": "code",
      "source": [
        "from ultralytics import YOLO\n"
      ],
      "metadata": {
        "id": "8Op42ZkClTb1"
      },
      "execution_count": null,
      "outputs": []
    },
    {
      "cell_type": "code",
      "source": [
        "model = YOLO('/content/drive/MyDrive/segmentation.v1i.yolov8/results/200_epochs-/weights/last.pt')"
      ],
      "metadata": {
        "id": "e2LzsbuglTgi"
      },
      "execution_count": null,
      "outputs": []
    },
    {
      "cell_type": "code",
      "source": [
        "import numpy as np\n",
        "import supervision as sv\n",
        "from ultralytics import YOLO\n",
        "\n",
        "model = YOLO(\"yolov8n.pt\")\n",
        "box_annotator = sv.BoundingBoxAnnotator()\n",
        "\n",
        "def callback(frame: np.ndarray, _: int) -> np.ndarray:\n",
        "    results = model(frame)[0]\n",
        "    detections = sv.Detections.from_ultralytics(results)\n",
        "    return box_annotator.annotate(frame.copy(), detections=detections)\n",
        "\n",
        "sv.process_video(\n",
        "    source_path=\"/content/video_result.mp4\",\n",
        "    target_path=\"/content/video_result-cell.mp4\",\n",
        "    callback=callback\n",
        ")"
      ],
      "metadata": {
        "id": "rXv89HQNl4AI"
      },
      "execution_count": null,
      "outputs": []
    },
    {
      "cell_type": "code",
      "source": [
        "import numpy as np\n",
        "import supervision as sv\n",
        "from ultralytics import YOLO\n",
        "\n",
        "\n",
        "tracker = sv.ByteTrack()\n",
        "box_annotator = sv.BoundingBoxAnnotator()\n",
        "label_annotator = sv.LabelAnnotator()\n",
        "\n",
        "def callback(frame: np.ndarray, _: int) -> np.ndarray:\n",
        "    results = model(frame)[0]\n",
        "    detections = sv.Detections.from_ultralytics(results)\n",
        "    detections = tracker.update_with_detections(detections)\n",
        "\n",
        "    labels = [\n",
        "        f\"#{tracker_id} {results.names[class_id]}\"\n",
        "        for class_id, tracker_id\n",
        "        in zip(detections.class_id, detections.tracker_id)\n",
        "    ]\n",
        "\n",
        "    annotated_frame = box_annotator.annotate(\n",
        "        frame.copy(), detections=detections)\n",
        "    return label_annotator.annotate(\n",
        "        annotated_frame, detections=detections, labels=labels)\n",
        "\n",
        "sv.process_video(\n",
        "    source_path=\"/content/video_result.mp4\",\n",
        "    target_path=\"result-cell2.mp4\",\n",
        "    callback=callback\n",
        ")"
      ],
      "metadata": {
        "colab": {
          "base_uri": "https://localhost:8080/"
        },
        "id": "_fPN3pb7pEPR",
        "outputId": "3feeea32-7aa2-4d6b-a052-9e8570cc2642"
      },
      "execution_count": null,
      "outputs": [
        {
          "output_type": "stream",
          "name": "stdout",
          "text": [
            "\n",
            "0: 800x800 25 cells, 311.8ms\n",
            "Speed: 5.4ms preprocess, 311.8ms inference, 105.5ms postprocess per image at shape (1, 3, 800, 800)\n",
            "\n",
            "0: 800x800 24 cells, 310.5ms\n",
            "Speed: 4.2ms preprocess, 310.5ms inference, 190.7ms postprocess per image at shape (1, 3, 800, 800)\n",
            "\n",
            "0: 800x800 23 cells, 630.1ms\n",
            "Speed: 4.9ms preprocess, 630.1ms inference, 155.8ms postprocess per image at shape (1, 3, 800, 800)\n",
            "\n",
            "0: 800x800 23 cells, 518.7ms\n",
            "Speed: 5.5ms preprocess, 518.7ms inference, 174.7ms postprocess per image at shape (1, 3, 800, 800)\n",
            "\n",
            "0: 800x800 22 cells, 495.0ms\n",
            "Speed: 4.2ms preprocess, 495.0ms inference, 169.9ms postprocess per image at shape (1, 3, 800, 800)\n",
            "\n",
            "0: 800x800 25 cells, 625.5ms\n",
            "Speed: 4.1ms preprocess, 625.5ms inference, 166.2ms postprocess per image at shape (1, 3, 800, 800)\n",
            "\n",
            "0: 800x800 25 cells, 306.6ms\n",
            "Speed: 4.2ms preprocess, 306.6ms inference, 104.5ms postprocess per image at shape (1, 3, 800, 800)\n",
            "\n",
            "0: 800x800 25 cells, 297.8ms\n",
            "Speed: 3.6ms preprocess, 297.8ms inference, 102.3ms postprocess per image at shape (1, 3, 800, 800)\n",
            "\n",
            "0: 800x800 24 cells, 309.0ms\n",
            "Speed: 3.8ms preprocess, 309.0ms inference, 98.6ms postprocess per image at shape (1, 3, 800, 800)\n",
            "\n",
            "0: 800x800 24 cells, 294.1ms\n",
            "Speed: 4.4ms preprocess, 294.1ms inference, 102.4ms postprocess per image at shape (1, 3, 800, 800)\n",
            "\n",
            "0: 800x800 26 cells, 292.0ms\n",
            "Speed: 4.3ms preprocess, 292.0ms inference, 117.2ms postprocess per image at shape (1, 3, 800, 800)\n",
            "\n",
            "0: 800x800 24 cells, 299.4ms\n",
            "Speed: 4.1ms preprocess, 299.4ms inference, 98.9ms postprocess per image at shape (1, 3, 800, 800)\n",
            "\n",
            "0: 800x800 25 cells, 295.3ms\n",
            "Speed: 4.2ms preprocess, 295.3ms inference, 103.5ms postprocess per image at shape (1, 3, 800, 800)\n",
            "\n",
            "0: 800x800 23 cells, 303.9ms\n",
            "Speed: 3.9ms preprocess, 303.9ms inference, 100.3ms postprocess per image at shape (1, 3, 800, 800)\n",
            "\n",
            "0: 800x800 23 cells, 397.1ms\n",
            "Speed: 3.7ms preprocess, 397.1ms inference, 153.6ms postprocess per image at shape (1, 3, 800, 800)\n",
            "\n",
            "0: 800x800 23 cells, 382.8ms\n",
            "Speed: 5.9ms preprocess, 382.8ms inference, 153.7ms postprocess per image at shape (1, 3, 800, 800)\n",
            "\n",
            "0: 800x800 23 cells, 363.8ms\n",
            "Speed: 4.1ms preprocess, 363.8ms inference, 99.8ms postprocess per image at shape (1, 3, 800, 800)\n",
            "\n",
            "0: 800x800 23 cells, 307.7ms\n",
            "Speed: 4.2ms preprocess, 307.7ms inference, 96.8ms postprocess per image at shape (1, 3, 800, 800)\n",
            "\n",
            "0: 800x800 23 cells, 297.4ms\n",
            "Speed: 4.0ms preprocess, 297.4ms inference, 95.9ms postprocess per image at shape (1, 3, 800, 800)\n",
            "\n",
            "0: 800x800 24 cells, 298.9ms\n",
            "Speed: 4.7ms preprocess, 298.9ms inference, 99.7ms postprocess per image at shape (1, 3, 800, 800)\n",
            "\n",
            "0: 800x800 23 cells, 299.8ms\n",
            "Speed: 4.2ms preprocess, 299.8ms inference, 94.8ms postprocess per image at shape (1, 3, 800, 800)\n",
            "\n",
            "0: 800x800 23 cells, 297.7ms\n",
            "Speed: 3.8ms preprocess, 297.7ms inference, 100.1ms postprocess per image at shape (1, 3, 800, 800)\n",
            "\n",
            "0: 800x800 27 cells, 297.3ms\n",
            "Speed: 4.0ms preprocess, 297.3ms inference, 111.5ms postprocess per image at shape (1, 3, 800, 800)\n",
            "\n",
            "0: 800x800 28 cells, 292.2ms\n",
            "Speed: 4.6ms preprocess, 292.2ms inference, 117.3ms postprocess per image at shape (1, 3, 800, 800)\n",
            "\n",
            "0: 800x800 27 cells, 294.5ms\n",
            "Speed: 4.4ms preprocess, 294.5ms inference, 113.8ms postprocess per image at shape (1, 3, 800, 800)\n",
            "\n",
            "0: 800x800 27 cells, 286.0ms\n",
            "Speed: 3.5ms preprocess, 286.0ms inference, 114.7ms postprocess per image at shape (1, 3, 800, 800)\n",
            "\n",
            "0: 800x800 27 cells, 303.1ms\n",
            "Speed: 3.8ms preprocess, 303.1ms inference, 111.9ms postprocess per image at shape (1, 3, 800, 800)\n",
            "\n",
            "0: 800x800 26 cells, 293.4ms\n",
            "Speed: 4.8ms preprocess, 293.4ms inference, 110.8ms postprocess per image at shape (1, 3, 800, 800)\n",
            "\n",
            "0: 800x800 24 cells, 287.7ms\n",
            "Speed: 4.9ms preprocess, 287.7ms inference, 106.9ms postprocess per image at shape (1, 3, 800, 800)\n",
            "\n",
            "0: 800x800 24 cells, 298.5ms\n",
            "Speed: 3.8ms preprocess, 298.5ms inference, 99.9ms postprocess per image at shape (1, 3, 800, 800)\n",
            "\n",
            "0: 800x800 23 cells, 293.6ms\n",
            "Speed: 4.6ms preprocess, 293.6ms inference, 93.8ms postprocess per image at shape (1, 3, 800, 800)\n",
            "\n",
            "0: 800x800 22 cells, 299.0ms\n",
            "Speed: 5.5ms preprocess, 299.0ms inference, 91.6ms postprocess per image at shape (1, 3, 800, 800)\n",
            "\n",
            "0: 800x800 24 cells, 295.4ms\n",
            "Speed: 3.8ms preprocess, 295.4ms inference, 102.1ms postprocess per image at shape (1, 3, 800, 800)\n",
            "\n",
            "0: 800x800 23 cells, 295.4ms\n",
            "Speed: 4.1ms preprocess, 295.4ms inference, 95.5ms postprocess per image at shape (1, 3, 800, 800)\n",
            "\n",
            "0: 800x800 22 cells, 291.9ms\n",
            "Speed: 4.5ms preprocess, 291.9ms inference, 91.3ms postprocess per image at shape (1, 3, 800, 800)\n",
            "\n",
            "0: 800x800 23 cells, 305.3ms\n",
            "Speed: 4.2ms preprocess, 305.3ms inference, 107.1ms postprocess per image at shape (1, 3, 800, 800)\n",
            "\n",
            "0: 800x800 27 cells, 292.1ms\n",
            "Speed: 4.2ms preprocess, 292.1ms inference, 110.6ms postprocess per image at shape (1, 3, 800, 800)\n",
            "\n",
            "0: 800x800 27 cells, 290.4ms\n",
            "Speed: 4.5ms preprocess, 290.4ms inference, 116.3ms postprocess per image at shape (1, 3, 800, 800)\n",
            "\n",
            "0: 800x800 27 cells, 301.0ms\n",
            "Speed: 5.4ms preprocess, 301.0ms inference, 114.1ms postprocess per image at shape (1, 3, 800, 800)\n",
            "\n",
            "0: 800x800 27 cells, 326.5ms\n",
            "Speed: 3.8ms preprocess, 326.5ms inference, 185.1ms postprocess per image at shape (1, 3, 800, 800)\n",
            "\n",
            "0: 800x800 29 cells, 384.8ms\n",
            "Speed: 4.6ms preprocess, 384.8ms inference, 195.0ms postprocess per image at shape (1, 3, 800, 800)\n",
            "\n",
            "0: 800x800 26 cells, 388.7ms\n",
            "Speed: 4.0ms preprocess, 388.7ms inference, 122.4ms postprocess per image at shape (1, 3, 800, 800)\n",
            "\n",
            "0: 800x800 26 cells, 288.9ms\n",
            "Speed: 3.6ms preprocess, 288.9ms inference, 107.6ms postprocess per image at shape (1, 3, 800, 800)\n",
            "\n",
            "0: 800x800 28 cells, 293.0ms\n",
            "Speed: 4.2ms preprocess, 293.0ms inference, 120.6ms postprocess per image at shape (1, 3, 800, 800)\n",
            "\n",
            "0: 800x800 29 cells, 296.3ms\n",
            "Speed: 3.8ms preprocess, 296.3ms inference, 119.2ms postprocess per image at shape (1, 3, 800, 800)\n",
            "\n",
            "0: 800x800 28 cells, 285.3ms\n",
            "Speed: 4.4ms preprocess, 285.3ms inference, 117.5ms postprocess per image at shape (1, 3, 800, 800)\n",
            "\n",
            "0: 800x800 29 cells, 290.9ms\n",
            "Speed: 4.0ms preprocess, 290.9ms inference, 120.2ms postprocess per image at shape (1, 3, 800, 800)\n",
            "\n",
            "0: 800x800 27 cells, 286.9ms\n",
            "Speed: 3.8ms preprocess, 286.9ms inference, 116.6ms postprocess per image at shape (1, 3, 800, 800)\n",
            "\n",
            "0: 800x800 29 cells, 304.3ms\n",
            "Speed: 4.0ms preprocess, 304.3ms inference, 122.9ms postprocess per image at shape (1, 3, 800, 800)\n",
            "\n",
            "0: 800x800 27 cells, 288.4ms\n",
            "Speed: 4.2ms preprocess, 288.4ms inference, 110.5ms postprocess per image at shape (1, 3, 800, 800)\n",
            "\n",
            "0: 800x800 27 cells, 301.7ms\n",
            "Speed: 5.2ms preprocess, 301.7ms inference, 118.3ms postprocess per image at shape (1, 3, 800, 800)\n",
            "\n",
            "0: 800x800 28 cells, 291.7ms\n",
            "Speed: 4.1ms preprocess, 291.7ms inference, 119.4ms postprocess per image at shape (1, 3, 800, 800)\n",
            "\n",
            "0: 800x800 28 cells, 296.1ms\n",
            "Speed: 3.9ms preprocess, 296.1ms inference, 118.2ms postprocess per image at shape (1, 3, 800, 800)\n",
            "\n",
            "0: 800x800 29 cells, 291.5ms\n",
            "Speed: 4.0ms preprocess, 291.5ms inference, 118.9ms postprocess per image at shape (1, 3, 800, 800)\n",
            "\n",
            "0: 800x800 29 cells, 291.6ms\n",
            "Speed: 4.4ms preprocess, 291.6ms inference, 119.9ms postprocess per image at shape (1, 3, 800, 800)\n",
            "\n",
            "0: 800x800 27 cells, 298.8ms\n",
            "Speed: 5.1ms preprocess, 298.8ms inference, 114.1ms postprocess per image at shape (1, 3, 800, 800)\n",
            "\n",
            "0: 800x800 27 cells, 284.3ms\n",
            "Speed: 4.8ms preprocess, 284.3ms inference, 113.0ms postprocess per image at shape (1, 3, 800, 800)\n",
            "\n",
            "0: 800x800 28 cells, 303.5ms\n",
            "Speed: 5.5ms preprocess, 303.5ms inference, 116.5ms postprocess per image at shape (1, 3, 800, 800)\n",
            "\n",
            "0: 800x800 28 cells, 299.9ms\n",
            "Speed: 3.9ms preprocess, 299.9ms inference, 123.2ms postprocess per image at shape (1, 3, 800, 800)\n",
            "\n",
            "0: 800x800 28 cells, 299.8ms\n",
            "Speed: 4.1ms preprocess, 299.8ms inference, 123.9ms postprocess per image at shape (1, 3, 800, 800)\n",
            "\n",
            "0: 800x800 28 cells, 291.2ms\n",
            "Speed: 3.3ms preprocess, 291.2ms inference, 115.3ms postprocess per image at shape (1, 3, 800, 800)\n",
            "\n",
            "0: 800x800 39 cells, 301.0ms\n",
            "Speed: 3.9ms preprocess, 301.0ms inference, 162.3ms postprocess per image at shape (1, 3, 800, 800)\n",
            "\n",
            "0: 800x800 40 cells, 308.6ms\n",
            "Speed: 3.9ms preprocess, 308.6ms inference, 193.6ms postprocess per image at shape (1, 3, 800, 800)\n",
            "\n",
            "0: 800x800 40 cells, 339.8ms\n",
            "Speed: 4.6ms preprocess, 339.8ms inference, 303.2ms postprocess per image at shape (1, 3, 800, 800)\n",
            "\n",
            "0: 800x800 45 cells, 397.4ms\n",
            "Speed: 3.9ms preprocess, 397.4ms inference, 319.2ms postprocess per image at shape (1, 3, 800, 800)\n",
            "\n",
            "0: 800x800 44 cells, 327.6ms\n",
            "Speed: 4.2ms preprocess, 327.6ms inference, 188.5ms postprocess per image at shape (1, 3, 800, 800)\n",
            "\n",
            "0: 800x800 43 cells, 296.6ms\n",
            "Speed: 4.4ms preprocess, 296.6ms inference, 184.7ms postprocess per image at shape (1, 3, 800, 800)\n",
            "\n",
            "0: 800x800 43 cells, 297.8ms\n",
            "Speed: 3.7ms preprocess, 297.8ms inference, 183.1ms postprocess per image at shape (1, 3, 800, 800)\n",
            "\n",
            "0: 800x800 45 cells, 299.7ms\n",
            "Speed: 4.5ms preprocess, 299.7ms inference, 200.9ms postprocess per image at shape (1, 3, 800, 800)\n",
            "\n",
            "0: 800x800 44 cells, 304.8ms\n",
            "Speed: 4.6ms preprocess, 304.8ms inference, 188.4ms postprocess per image at shape (1, 3, 800, 800)\n",
            "\n",
            "0: 800x800 46 cells, 314.4ms\n",
            "Speed: 4.2ms preprocess, 314.4ms inference, 197.4ms postprocess per image at shape (1, 3, 800, 800)\n",
            "\n",
            "0: 800x800 44 cells, 296.3ms\n",
            "Speed: 4.9ms preprocess, 296.3ms inference, 180.2ms postprocess per image at shape (1, 3, 800, 800)\n",
            "\n",
            "0: 800x800 45 cells, 308.0ms\n",
            "Speed: 3.9ms preprocess, 308.0ms inference, 184.3ms postprocess per image at shape (1, 3, 800, 800)\n",
            "\n",
            "0: 800x800 46 cells, 301.7ms\n",
            "Speed: 3.7ms preprocess, 301.7ms inference, 196.6ms postprocess per image at shape (1, 3, 800, 800)\n",
            "\n",
            "0: 800x800 40 cells, 297.7ms\n",
            "Speed: 4.2ms preprocess, 297.7ms inference, 167.5ms postprocess per image at shape (1, 3, 800, 800)\n",
            "\n",
            "0: 800x800 40 cells, 292.9ms\n",
            "Speed: 3.8ms preprocess, 292.9ms inference, 167.1ms postprocess per image at shape (1, 3, 800, 800)\n",
            "\n",
            "0: 800x800 41 cells, 300.6ms\n",
            "Speed: 3.8ms preprocess, 300.6ms inference, 172.3ms postprocess per image at shape (1, 3, 800, 800)\n",
            "\n",
            "0: 800x800 39 cells, 305.8ms\n",
            "Speed: 4.3ms preprocess, 305.8ms inference, 163.4ms postprocess per image at shape (1, 3, 800, 800)\n",
            "\n",
            "0: 800x800 40 cells, 297.6ms\n",
            "Speed: 4.4ms preprocess, 297.6ms inference, 167.0ms postprocess per image at shape (1, 3, 800, 800)\n",
            "\n",
            "0: 800x800 39 cells, 303.4ms\n",
            "Speed: 4.3ms preprocess, 303.4ms inference, 162.3ms postprocess per image at shape (1, 3, 800, 800)\n",
            "\n",
            "0: 800x800 29 cells, 294.5ms\n",
            "Speed: 4.1ms preprocess, 294.5ms inference, 123.0ms postprocess per image at shape (1, 3, 800, 800)\n"
          ]
        }
      ]
    },
    {
      "cell_type": "code",
      "source": [
        "import cv2\n"
      ],
      "metadata": {
        "id": "zeqSx3tqqQw5"
      },
      "execution_count": null,
      "outputs": []
    },
    {
      "cell_type": "code",
      "source": [
        "im = cv2.imread(\"/content/im (97).png\")"
      ],
      "metadata": {
        "id": "DTeyF1GHqRD8"
      },
      "execution_count": null,
      "outputs": []
    },
    {
      "cell_type": "code",
      "source": [],
      "metadata": {
        "colab": {
          "base_uri": "https://localhost:8080/"
        },
        "id": "KxQoyiMqqnWu",
        "outputId": "8feede93-7dab-4992-ecd8-23e83247aa9d"
      },
      "execution_count": null,
      "outputs": [
        {
          "output_type": "execute_result",
          "data": {
            "text/plain": [
              "(1024, 1024, 3)"
            ]
          },
          "metadata": {},
          "execution_count": 19
        }
      ]
    },
    {
      "cell_type": "code",
      "source": [],
      "metadata": {
        "id": "p6agccr5qqme"
      },
      "execution_count": null,
      "outputs": []
    }
  ]
}